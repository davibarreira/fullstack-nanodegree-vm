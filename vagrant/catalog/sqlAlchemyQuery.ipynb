{
 "cells": [
  {
   "cell_type": "code",
   "execution_count": 111,
   "metadata": {
    "collapsed": true
   },
   "outputs": [],
   "source": [
    "from sqlalchemy import create_engine, desc, func\n",
    "from sqlalchemy.orm import sessionmaker\n",
    " \n",
    "from puppies import Base, Shelter, Puppy\n",
    "#from flask.ext.sqlalchemy import SQLAlchemy\n",
    "from random import randint\n",
    "import datetime\n",
    "import random\n",
    "from datetime import date,timedelta, datetime\n",
    "import re\n",
    "engine = create_engine('sqlite:///puppyshelter.db')\n",
    "\n",
    "Base.metadata.bind = engine\n",
    " \n",
    "DBSession = sessionmaker(bind=engine)\n",
    "\n",
    "session = DBSession()\n"
   ]
  },
  {
   "cell_type": "code",
   "execution_count": null,
   "metadata": {
    "collapsed": true
   },
   "outputs": [],
   "source": []
  },
  {
   "cell_type": "code",
   "execution_count": 112,
   "metadata": {
    "collapsed": false
   },
   "outputs": [],
   "source": [
    "puppies_by_name = session.query(Puppy).order_by('name')"
   ]
  },
  {
   "cell_type": "code",
   "execution_count": 114,
   "metadata": {
    "collapsed": false
   },
   "outputs": [],
   "source": [
    "puppies_by_name[0].name = 'Abym'"
   ]
  },
  {
   "cell_type": "code",
   "execution_count": 115,
   "metadata": {
    "collapsed": false
   },
   "outputs": [
    {
     "name": "stdout",
     "output_type": "stream",
     "text": [
      "Abym 62\n",
      "Angel 69\n",
      "Annie 72\n",
      "Bailey 1\n",
      "Bailey 59\n",
      "Bandit 32\n",
      "Baxter 31\n",
      "Bear 15\n",
      "Beau 44\n",
      "Bella 51\n"
     ]
    }
   ],
   "source": [
    "for i in range(10):\n",
    "    print puppies_by_name[i].name, puppies_by_name[i].id"
   ]
  },
  {
   "cell_type": "code",
   "execution_count": 110,
   "metadata": {
    "collapsed": false
   },
   "outputs": [
    {
     "ename": "NameError",
     "evalue": "name 'puppies' is not defined",
     "output_type": "error",
     "traceback": [
      "\u001b[1;31m---------------------------------------------------------------------------\u001b[0m",
      "\u001b[1;31mNameError\u001b[0m                                 Traceback (most recent call last)",
      "\u001b[1;32m<ipython-input-110-85a36eff5337>\u001b[0m in \u001b[0;36m<module>\u001b[1;34m()\u001b[0m\n\u001b[1;32m----> 1\u001b[1;33m \u001b[0myoung\u001b[0m \u001b[1;33m=\u001b[0m \u001b[0mpuppies\u001b[0m\u001b[1;33m.\u001b[0m\u001b[0mfilter\u001b[0m\u001b[1;33m(\u001b[0m\u001b[0mPuppy\u001b[0m\u001b[1;33m.\u001b[0m\u001b[0mdateOfBirth\u001b[0m\u001b[1;33m>=\u001b[0m\u001b[0mdate\u001b[0m\u001b[1;33m.\u001b[0m\u001b[0mtoday\u001b[0m\u001b[1;33m(\u001b[0m\u001b[1;33m)\u001b[0m \u001b[1;33m-\u001b[0m \u001b[0mtimedelta\u001b[0m\u001b[1;33m(\u001b[0m\u001b[1;36m360\u001b[0m\u001b[1;33m)\u001b[0m\u001b[1;33m)\u001b[0m\u001b[1;33m\u001b[0m\u001b[0m\n\u001b[0m",
      "\u001b[1;31mNameError\u001b[0m: name 'puppies' is not defined"
     ]
    }
   ],
   "source": [
    "young = puppies.filter(Puppy.dateOfBirth>=date.today() - timedelta(360))"
   ]
  },
  {
   "cell_type": "code",
   "execution_count": null,
   "metadata": {
    "collapsed": true
   },
   "outputs": [],
   "source": [
    "young."
   ]
  },
  {
   "cell_type": "code",
   "execution_count": 248,
   "metadata": {
    "collapsed": false
   },
   "outputs": [
    {
     "name": "stdout",
     "output_type": "stream",
     "text": [
      "Bailey 2015-07-29\n",
      "Bailey 2016-02-19\n",
      "Bandit 2016-03-07\n",
      "Baxter 2015-08-30\n",
      "Bear 2015-04-13\n",
      "Beau 2015-09-24\n",
      "Bella 2015-09-28\n",
      "Belle 2016-01-12\n",
      "Bentley 2015-10-21\n",
      "Boomer 2015-11-30\n"
     ]
    }
   ],
   "source": [
    "for i in range(10):\n",
    "    print young[i].name, young[i].dateOfBirth"
   ]
  },
  {
   "cell_type": "code",
   "execution_count": 249,
   "metadata": {
    "collapsed": false
   },
   "outputs": [],
   "source": [
    "puppies_by_weight = session.query(Puppy).order_by(desc('weight'))"
   ]
  },
  {
   "cell_type": "code",
   "execution_count": 250,
   "metadata": {
    "collapsed": false
   },
   "outputs": [
    {
     "name": "stdout",
     "output_type": "stream",
     "text": [
      "Milo 35\n",
      "Luke 49\n",
      "Beau 44\n",
      "Rocco 40\n",
      "Dakota 100\n",
      "Romeo 47\n",
      "Henry 50\n",
      "Zeus 29\n",
      "Bruno 43\n",
      "Ginger 63\n"
     ]
    }
   ],
   "source": [
    "for i in range(10):\n",
    "    print puppies_by_weight[i].name, puppies_by_weight[i].id"
   ]
  },
  {
   "cell_type": "code",
   "execution_count": 251,
   "metadata": {
    "collapsed": false
   },
   "outputs": [],
   "source": [
    "puppies_by_shelter = session.query(func.count(Puppy.name),Puppy.shelter_id).group_by(Puppy.shelter_id)"
   ]
  },
  {
   "cell_type": "code",
   "execution_count": 252,
   "metadata": {
    "collapsed": false,
    "scrolled": true
   },
   "outputs": [
    {
     "name": "stdout",
     "output_type": "stream",
     "text": [
      "N# Shelter:\n",
      "\n",
      "21 Oakland Animal Services\n",
      "13 San Francisco SPCA Mission Adoption Center\n",
      "22 Wonder Dog Rescue\n",
      "22 Humane Society of Alameda\n",
      "22 Palo Alto Humane Society\n"
     ]
    }
   ],
   "source": [
    "print 'N#','Shelter:'\n",
    "print\n",
    "for i,j in puppies_by_shelter:\n",
    "    print i,session.query(Shelter).filter(Shelter.id==j).one().name"
   ]
  },
  {
   "cell_type": "code",
   "execution_count": 117,
   "metadata": {
    "collapsed": false
   },
   "outputs": [
    {
     "data": {
      "text/plain": [
       "'0'"
      ]
     },
     "execution_count": 117,
     "metadata": {},
     "output_type": "execute_result"
    }
   ],
   "source": [
    "re.findall(r'restaurant/(\\d+)\\/edit','restaurant/0/edit')[0]"
   ]
  },
  {
   "cell_type": "code",
   "execution_count": null,
   "metadata": {
    "collapsed": true
   },
   "outputs": [],
   "source": [
    "session.delete()"
   ]
  }
 ],
 "metadata": {
  "kernelspec": {
   "display_name": "Python 2",
   "language": "python",
   "name": "python2"
  },
  "language_info": {
   "codemirror_mode": {
    "name": "ipython",
    "version": 2
   },
   "file_extension": ".py",
   "mimetype": "text/x-python",
   "name": "python",
   "nbconvert_exporter": "python",
   "pygments_lexer": "ipython2",
   "version": "2.7.6"
  }
 },
 "nbformat": 4,
 "nbformat_minor": 0
}
